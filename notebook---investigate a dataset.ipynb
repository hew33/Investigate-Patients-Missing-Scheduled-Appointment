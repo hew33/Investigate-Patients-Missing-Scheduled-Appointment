{
 "cells": [
  {
   "cell_type": "markdown",
   "metadata": {},
   "source": [
    "\n",
    "# Project: Investigate Why Do Patients Miss The Scheduled Appointment\n",
    "\n",
    "## Table of Contents\n",
    "<ul>\n",
    "<li><a href=\"#intro\">Introduction</a></li>\n",
    "<li><a href=\"#wrangling\">Data Wrangling</a></li>\n",
    "<li><a href=\"#eda\">Exploratory Data Analysis</a></li>\n",
    "<li><a href=\"#conclusions\">Conclusions</a></li>\n",
    "</ul>"
   ]
  },
  {
   "cell_type": "markdown",
   "metadata": {},
   "source": [
    "<a id='intro'></a>\n",
    "## Introduction\n",
    "\n",
    "The dataset being investigated is the \"No-show appointments\" dataset. This dataset collects information from 100k medical appointments in Brazil and is focused on the question of whether or not patients show up for their appointment. Variables include the scheduled date, neighborhood of the hospital, patients' Brasilian welfre enrollment,etc.\n",
    "<br>\n",
    "<br>***I came up with these questions:***\n",
    "<br>1. Is the gap between scheduled date and appointment date one of the reasons that causes them missing the appointment?\n",
    "<br>2. Is the missing appointment related with the gender?\n",
    "<br>3. Is the missing appointment related with the age?\n",
    "<br>4. Where are most patients who missed appointment from? Which neighbourhood?\n",
    "<br>5. Are scholarship, hipertension,diabetes,alcoholism, and receiving sms related with missing appointment?\n",
    "<br>6. Is handicapped level related with missing appointment?"
   ]
  },
  {
   "cell_type": "code",
   "execution_count": 2,
   "metadata": {},
   "outputs": [],
   "source": [
    "import numpy as np\n",
    "import pandas as pd\n",
    "import matplotlib.pyplot as plt\n",
    "from datetime import date\n",
    "%matplotlib inline"
   ]
  },
  {
   "cell_type": "markdown",
   "metadata": {},
   "source": [
    "<a id='wrangling'></a>\n",
    "## Data Wrangling\n",
    "\n",
    "### General Properties"
   ]
  },
  {
   "cell_type": "code",
   "execution_count": 3,
   "metadata": {},
   "outputs": [
    {
     "data": {
      "text/html": [
       "<div>\n",
       "<style scoped>\n",
       "    .dataframe tbody tr th:only-of-type {\n",
       "        vertical-align: middle;\n",
       "    }\n",
       "\n",
       "    .dataframe tbody tr th {\n",
       "        vertical-align: top;\n",
       "    }\n",
       "\n",
       "    .dataframe thead th {\n",
       "        text-align: right;\n",
       "    }\n",
       "</style>\n",
       "<table border=\"1\" class=\"dataframe\">\n",
       "  <thead>\n",
       "    <tr style=\"text-align: right;\">\n",
       "      <th></th>\n",
       "      <th>PatientId</th>\n",
       "      <th>AppointmentID</th>\n",
       "      <th>Gender</th>\n",
       "      <th>ScheduledDay</th>\n",
       "      <th>AppointmentDay</th>\n",
       "      <th>Age</th>\n",
       "      <th>Neighbourhood</th>\n",
       "      <th>Scholarship</th>\n",
       "      <th>Hipertension</th>\n",
       "      <th>Diabetes</th>\n",
       "      <th>Alcoholism</th>\n",
       "      <th>Handcap</th>\n",
       "      <th>SMS_received</th>\n",
       "      <th>No-show</th>\n",
       "    </tr>\n",
       "  </thead>\n",
       "  <tbody>\n",
       "    <tr>\n",
       "      <td>0</td>\n",
       "      <td>2.987250e+13</td>\n",
       "      <td>5642903</td>\n",
       "      <td>F</td>\n",
       "      <td>2016-04-29T18:38:08Z</td>\n",
       "      <td>2016-04-29T00:00:00Z</td>\n",
       "      <td>62</td>\n",
       "      <td>JARDIM DA PENHA</td>\n",
       "      <td>0</td>\n",
       "      <td>1</td>\n",
       "      <td>0</td>\n",
       "      <td>0</td>\n",
       "      <td>0</td>\n",
       "      <td>0</td>\n",
       "      <td>No</td>\n",
       "    </tr>\n",
       "    <tr>\n",
       "      <td>1</td>\n",
       "      <td>5.589978e+14</td>\n",
       "      <td>5642503</td>\n",
       "      <td>M</td>\n",
       "      <td>2016-04-29T16:08:27Z</td>\n",
       "      <td>2016-04-29T00:00:00Z</td>\n",
       "      <td>56</td>\n",
       "      <td>JARDIM DA PENHA</td>\n",
       "      <td>0</td>\n",
       "      <td>0</td>\n",
       "      <td>0</td>\n",
       "      <td>0</td>\n",
       "      <td>0</td>\n",
       "      <td>0</td>\n",
       "      <td>No</td>\n",
       "    </tr>\n",
       "    <tr>\n",
       "      <td>2</td>\n",
       "      <td>4.262962e+12</td>\n",
       "      <td>5642549</td>\n",
       "      <td>F</td>\n",
       "      <td>2016-04-29T16:19:04Z</td>\n",
       "      <td>2016-04-29T00:00:00Z</td>\n",
       "      <td>62</td>\n",
       "      <td>MATA DA PRAIA</td>\n",
       "      <td>0</td>\n",
       "      <td>0</td>\n",
       "      <td>0</td>\n",
       "      <td>0</td>\n",
       "      <td>0</td>\n",
       "      <td>0</td>\n",
       "      <td>No</td>\n",
       "    </tr>\n",
       "    <tr>\n",
       "      <td>3</td>\n",
       "      <td>8.679512e+11</td>\n",
       "      <td>5642828</td>\n",
       "      <td>F</td>\n",
       "      <td>2016-04-29T17:29:31Z</td>\n",
       "      <td>2016-04-29T00:00:00Z</td>\n",
       "      <td>8</td>\n",
       "      <td>PONTAL DE CAMBURI</td>\n",
       "      <td>0</td>\n",
       "      <td>0</td>\n",
       "      <td>0</td>\n",
       "      <td>0</td>\n",
       "      <td>0</td>\n",
       "      <td>0</td>\n",
       "      <td>No</td>\n",
       "    </tr>\n",
       "    <tr>\n",
       "      <td>4</td>\n",
       "      <td>8.841186e+12</td>\n",
       "      <td>5642494</td>\n",
       "      <td>F</td>\n",
       "      <td>2016-04-29T16:07:23Z</td>\n",
       "      <td>2016-04-29T00:00:00Z</td>\n",
       "      <td>56</td>\n",
       "      <td>JARDIM DA PENHA</td>\n",
       "      <td>0</td>\n",
       "      <td>1</td>\n",
       "      <td>1</td>\n",
       "      <td>0</td>\n",
       "      <td>0</td>\n",
       "      <td>0</td>\n",
       "      <td>No</td>\n",
       "    </tr>\n",
       "  </tbody>\n",
       "</table>\n",
       "</div>"
      ],
      "text/plain": [
       "      PatientId  AppointmentID Gender          ScheduledDay  \\\n",
       "0  2.987250e+13        5642903      F  2016-04-29T18:38:08Z   \n",
       "1  5.589978e+14        5642503      M  2016-04-29T16:08:27Z   \n",
       "2  4.262962e+12        5642549      F  2016-04-29T16:19:04Z   \n",
       "3  8.679512e+11        5642828      F  2016-04-29T17:29:31Z   \n",
       "4  8.841186e+12        5642494      F  2016-04-29T16:07:23Z   \n",
       "\n",
       "         AppointmentDay  Age      Neighbourhood  Scholarship  Hipertension  \\\n",
       "0  2016-04-29T00:00:00Z   62    JARDIM DA PENHA            0             1   \n",
       "1  2016-04-29T00:00:00Z   56    JARDIM DA PENHA            0             0   \n",
       "2  2016-04-29T00:00:00Z   62      MATA DA PRAIA            0             0   \n",
       "3  2016-04-29T00:00:00Z    8  PONTAL DE CAMBURI            0             0   \n",
       "4  2016-04-29T00:00:00Z   56    JARDIM DA PENHA            0             1   \n",
       "\n",
       "   Diabetes  Alcoholism  Handcap  SMS_received No-show  \n",
       "0         0           0        0             0      No  \n",
       "1         0           0        0             0      No  \n",
       "2         0           0        0             0      No  \n",
       "3         0           0        0             0      No  \n",
       "4         1           0        0             0      No  "
      ]
     },
     "execution_count": 3,
     "metadata": {},
     "output_type": "execute_result"
    }
   ],
   "source": [
    "df=pd.read_csv(\"C:\\\\Users\\\\wanghe\\\\Desktop\\\\Udacity\\\\project 2\\\\appointments.csv\")\n",
    "df.head()"
   ]
  },
  {
   "cell_type": "code",
   "execution_count": 4,
   "metadata": {},
   "outputs": [
    {
     "data": {
      "text/plain": [
       "(110527, 14)"
      ]
     },
     "execution_count": 4,
     "metadata": {},
     "output_type": "execute_result"
    }
   ],
   "source": [
    "df.shape"
   ]
  },
  {
   "cell_type": "markdown",
   "metadata": {},
   "source": [
    "There are 110527 rows and 14 columns in the dataset."
   ]
  },
  {
   "cell_type": "code",
   "execution_count": 5,
   "metadata": {},
   "outputs": [
    {
     "data": {
      "text/plain": [
       "0"
      ]
     },
     "execution_count": 5,
     "metadata": {},
     "output_type": "execute_result"
    }
   ],
   "source": [
    "df.duplicated().sum()"
   ]
  },
  {
   "cell_type": "markdown",
   "metadata": {},
   "source": [
    "There's no duplicated record in the dataset."
   ]
  },
  {
   "cell_type": "code",
   "execution_count": 6,
   "metadata": {},
   "outputs": [
    {
     "data": {
      "text/plain": [
       "PatientId          62299\n",
       "AppointmentID     110527\n",
       "Gender                 2\n",
       "ScheduledDay      103549\n",
       "AppointmentDay        27\n",
       "Age                  104\n",
       "Neighbourhood         81\n",
       "Scholarship            2\n",
       "Hipertension           2\n",
       "Diabetes               2\n",
       "Alcoholism             2\n",
       "Handcap                5\n",
       "SMS_received           2\n",
       "No-show                2\n",
       "dtype: int64"
      ]
     },
     "execution_count": 6,
     "metadata": {},
     "output_type": "execute_result"
    }
   ],
   "source": [
    "#Check how many unique values in each column.\n",
    "df.nunique()"
   ]
  },
  {
   "cell_type": "markdown",
   "metadata": {},
   "source": [
    "Names of each columns can be all lower cased.\n",
    "<br>The \"-\" of No-show\" should be replaced by \"_\"."
   ]
  },
  {
   "cell_type": "code",
   "execution_count": 7,
   "metadata": {},
   "outputs": [
    {
     "name": "stdout",
     "output_type": "stream",
     "text": [
      "<class 'pandas.core.frame.DataFrame'>\n",
      "RangeIndex: 110527 entries, 0 to 110526\n",
      "Data columns (total 14 columns):\n",
      "PatientId         110527 non-null float64\n",
      "AppointmentID     110527 non-null int64\n",
      "Gender            110527 non-null object\n",
      "ScheduledDay      110527 non-null object\n",
      "AppointmentDay    110527 non-null object\n",
      "Age               110527 non-null int64\n",
      "Neighbourhood     110527 non-null object\n",
      "Scholarship       110527 non-null int64\n",
      "Hipertension      110527 non-null int64\n",
      "Diabetes          110527 non-null int64\n",
      "Alcoholism        110527 non-null int64\n",
      "Handcap           110527 non-null int64\n",
      "SMS_received      110527 non-null int64\n",
      "No-show           110527 non-null object\n",
      "dtypes: float64(1), int64(8), object(5)\n",
      "memory usage: 11.8+ MB\n"
     ]
    }
   ],
   "source": [
    "#Check the type of each variable.\n",
    "df.info()"
   ]
  },
  {
   "cell_type": "markdown",
   "metadata": {},
   "source": [
    "It will make more sense if the type of PatientId is integer.\n",
    "<br>Types of ScheduledDay and AppointmentDay should be datetime.\n",
    "<br>Types of Scholarship, Hipertension, Diabetes, Alcoholism, SMS_received, and No-show should be boolean."
   ]
  },
  {
   "cell_type": "code",
   "execution_count": 8,
   "metadata": {},
   "outputs": [
    {
     "data": {
      "text/plain": [
       "0"
      ]
     },
     "execution_count": 8,
     "metadata": {},
     "output_type": "execute_result"
    }
   ],
   "source": [
    "df.isnull().sum().sum()"
   ]
  },
  {
   "cell_type": "markdown",
   "metadata": {},
   "source": [
    "There's no missing value."
   ]
  },
  {
   "cell_type": "code",
   "execution_count": 9,
   "metadata": {},
   "outputs": [
    {
     "data": {
      "text/html": [
       "<div>\n",
       "<style scoped>\n",
       "    .dataframe tbody tr th:only-of-type {\n",
       "        vertical-align: middle;\n",
       "    }\n",
       "\n",
       "    .dataframe tbody tr th {\n",
       "        vertical-align: top;\n",
       "    }\n",
       "\n",
       "    .dataframe thead th {\n",
       "        text-align: right;\n",
       "    }\n",
       "</style>\n",
       "<table border=\"1\" class=\"dataframe\">\n",
       "  <thead>\n",
       "    <tr style=\"text-align: right;\">\n",
       "      <th></th>\n",
       "      <th>PatientId</th>\n",
       "      <th>AppointmentID</th>\n",
       "      <th>Age</th>\n",
       "      <th>Scholarship</th>\n",
       "      <th>Hipertension</th>\n",
       "      <th>Diabetes</th>\n",
       "      <th>Alcoholism</th>\n",
       "      <th>Handcap</th>\n",
       "      <th>SMS_received</th>\n",
       "    </tr>\n",
       "  </thead>\n",
       "  <tbody>\n",
       "    <tr>\n",
       "      <td>count</td>\n",
       "      <td>1.105270e+05</td>\n",
       "      <td>1.105270e+05</td>\n",
       "      <td>110527.000000</td>\n",
       "      <td>110527.000000</td>\n",
       "      <td>110527.000000</td>\n",
       "      <td>110527.000000</td>\n",
       "      <td>110527.000000</td>\n",
       "      <td>110527.000000</td>\n",
       "      <td>110527.000000</td>\n",
       "    </tr>\n",
       "    <tr>\n",
       "      <td>mean</td>\n",
       "      <td>1.474963e+14</td>\n",
       "      <td>5.675305e+06</td>\n",
       "      <td>37.088874</td>\n",
       "      <td>0.098266</td>\n",
       "      <td>0.197246</td>\n",
       "      <td>0.071865</td>\n",
       "      <td>0.030400</td>\n",
       "      <td>0.022248</td>\n",
       "      <td>0.321026</td>\n",
       "    </tr>\n",
       "    <tr>\n",
       "      <td>std</td>\n",
       "      <td>2.560949e+14</td>\n",
       "      <td>7.129575e+04</td>\n",
       "      <td>23.110205</td>\n",
       "      <td>0.297675</td>\n",
       "      <td>0.397921</td>\n",
       "      <td>0.258265</td>\n",
       "      <td>0.171686</td>\n",
       "      <td>0.161543</td>\n",
       "      <td>0.466873</td>\n",
       "    </tr>\n",
       "    <tr>\n",
       "      <td>min</td>\n",
       "      <td>3.921784e+04</td>\n",
       "      <td>5.030230e+06</td>\n",
       "      <td>-1.000000</td>\n",
       "      <td>0.000000</td>\n",
       "      <td>0.000000</td>\n",
       "      <td>0.000000</td>\n",
       "      <td>0.000000</td>\n",
       "      <td>0.000000</td>\n",
       "      <td>0.000000</td>\n",
       "    </tr>\n",
       "    <tr>\n",
       "      <td>25%</td>\n",
       "      <td>4.172614e+12</td>\n",
       "      <td>5.640286e+06</td>\n",
       "      <td>18.000000</td>\n",
       "      <td>0.000000</td>\n",
       "      <td>0.000000</td>\n",
       "      <td>0.000000</td>\n",
       "      <td>0.000000</td>\n",
       "      <td>0.000000</td>\n",
       "      <td>0.000000</td>\n",
       "    </tr>\n",
       "    <tr>\n",
       "      <td>50%</td>\n",
       "      <td>3.173184e+13</td>\n",
       "      <td>5.680573e+06</td>\n",
       "      <td>37.000000</td>\n",
       "      <td>0.000000</td>\n",
       "      <td>0.000000</td>\n",
       "      <td>0.000000</td>\n",
       "      <td>0.000000</td>\n",
       "      <td>0.000000</td>\n",
       "      <td>0.000000</td>\n",
       "    </tr>\n",
       "    <tr>\n",
       "      <td>75%</td>\n",
       "      <td>9.439172e+13</td>\n",
       "      <td>5.725524e+06</td>\n",
       "      <td>55.000000</td>\n",
       "      <td>0.000000</td>\n",
       "      <td>0.000000</td>\n",
       "      <td>0.000000</td>\n",
       "      <td>0.000000</td>\n",
       "      <td>0.000000</td>\n",
       "      <td>1.000000</td>\n",
       "    </tr>\n",
       "    <tr>\n",
       "      <td>max</td>\n",
       "      <td>9.999816e+14</td>\n",
       "      <td>5.790484e+06</td>\n",
       "      <td>115.000000</td>\n",
       "      <td>1.000000</td>\n",
       "      <td>1.000000</td>\n",
       "      <td>1.000000</td>\n",
       "      <td>1.000000</td>\n",
       "      <td>4.000000</td>\n",
       "      <td>1.000000</td>\n",
       "    </tr>\n",
       "  </tbody>\n",
       "</table>\n",
       "</div>"
      ],
      "text/plain": [
       "          PatientId  AppointmentID            Age    Scholarship  \\\n",
       "count  1.105270e+05   1.105270e+05  110527.000000  110527.000000   \n",
       "mean   1.474963e+14   5.675305e+06      37.088874       0.098266   \n",
       "std    2.560949e+14   7.129575e+04      23.110205       0.297675   \n",
       "min    3.921784e+04   5.030230e+06      -1.000000       0.000000   \n",
       "25%    4.172614e+12   5.640286e+06      18.000000       0.000000   \n",
       "50%    3.173184e+13   5.680573e+06      37.000000       0.000000   \n",
       "75%    9.439172e+13   5.725524e+06      55.000000       0.000000   \n",
       "max    9.999816e+14   5.790484e+06     115.000000       1.000000   \n",
       "\n",
       "        Hipertension       Diabetes     Alcoholism        Handcap  \\\n",
       "count  110527.000000  110527.000000  110527.000000  110527.000000   \n",
       "mean        0.197246       0.071865       0.030400       0.022248   \n",
       "std         0.397921       0.258265       0.171686       0.161543   \n",
       "min         0.000000       0.000000       0.000000       0.000000   \n",
       "25%         0.000000       0.000000       0.000000       0.000000   \n",
       "50%         0.000000       0.000000       0.000000       0.000000   \n",
       "75%         0.000000       0.000000       0.000000       0.000000   \n",
       "max         1.000000       1.000000       1.000000       4.000000   \n",
       "\n",
       "        SMS_received  \n",
       "count  110527.000000  \n",
       "mean        0.321026  \n",
       "std         0.466873  \n",
       "min         0.000000  \n",
       "25%         0.000000  \n",
       "50%         0.000000  \n",
       "75%         1.000000  \n",
       "max         1.000000  "
      ]
     },
     "execution_count": 9,
     "metadata": {},
     "output_type": "execute_result"
    }
   ],
   "source": [
    "df.describe()"
   ]
  },
  {
   "cell_type": "markdown",
   "metadata": {},
   "source": [
    "There's a negative value of age. There's no explanation of what does -1 years old mean on the website of the dataset, but still need to be corrected."
   ]
  },
  {
   "cell_type": "markdown",
   "metadata": {},
   "source": [
    "### Data Cleaning "
   ]
  },
  {
   "cell_type": "markdown",
   "metadata": {
    "collapsed": true
   },
   "source": [
    "1. Rename the columns."
   ]
  },
  {
   "cell_type": "code",
   "execution_count": 10,
   "metadata": {},
   "outputs": [],
   "source": [
    "#lowercase all the names.\n",
    "df.columns=df.columns.str.lower()"
   ]
  },
  {
   "cell_type": "code",
   "execution_count": 11,
   "metadata": {},
   "outputs": [
    {
     "data": {
      "text/html": [
       "<div>\n",
       "<style scoped>\n",
       "    .dataframe tbody tr th:only-of-type {\n",
       "        vertical-align: middle;\n",
       "    }\n",
       "\n",
       "    .dataframe tbody tr th {\n",
       "        vertical-align: top;\n",
       "    }\n",
       "\n",
       "    .dataframe thead th {\n",
       "        text-align: right;\n",
       "    }\n",
       "</style>\n",
       "<table border=\"1\" class=\"dataframe\">\n",
       "  <thead>\n",
       "    <tr style=\"text-align: right;\">\n",
       "      <th></th>\n",
       "      <th>patient_id</th>\n",
       "      <th>appointment_id</th>\n",
       "      <th>gender</th>\n",
       "      <th>scheduled_day</th>\n",
       "      <th>appointment_day</th>\n",
       "      <th>age</th>\n",
       "      <th>neighbourhood</th>\n",
       "      <th>scholarship</th>\n",
       "      <th>hipertension</th>\n",
       "      <th>diabetes</th>\n",
       "      <th>alcoholism</th>\n",
       "      <th>handcap</th>\n",
       "      <th>sms_received</th>\n",
       "      <th>no_show</th>\n",
       "    </tr>\n",
       "  </thead>\n",
       "  <tbody>\n",
       "  </tbody>\n",
       "</table>\n",
       "</div>"
      ],
      "text/plain": [
       "Empty DataFrame\n",
       "Columns: [patient_id, appointment_id, gender, scheduled_day, appointment_day, age, neighbourhood, scholarship, hipertension, diabetes, alcoholism, handcap, sms_received, no_show]\n",
       "Index: []"
      ]
     },
     "execution_count": 11,
     "metadata": {},
     "output_type": "execute_result"
    }
   ],
   "source": [
    "#Add '_' in columns such as PatientId, AppointmentID, ScheduledDay, and ApointmentDay. \n",
    "df.rename(columns={'patientid':'patient_id','appointmentid':'appointment_id','scheduledday':'scheduled_day','appointmentday':'appointment_day'},inplace=True)\n",
    "#Replace the \"-\" in \"no-show\" with \"_\"\n",
    "df.rename(columns={'no-show':'no_show'},inplace=True)\n",
    "#Check\n",
    "df.head(0)"
   ]
  },
  {
   "cell_type": "markdown",
   "metadata": {},
   "source": [
    "2. Change the types of certain columns."
   ]
  },
  {
   "cell_type": "code",
   "execution_count": 12,
   "metadata": {},
   "outputs": [
    {
     "name": "stdout",
     "output_type": "stream",
     "text": [
      "<class 'pandas.core.frame.DataFrame'>\n",
      "RangeIndex: 110527 entries, 0 to 110526\n",
      "Data columns (total 14 columns):\n",
      "patient_id         110527 non-null int64\n",
      "appointment_id     110527 non-null int64\n",
      "gender             110527 non-null object\n",
      "scheduled_day      110527 non-null datetime64[ns, UTC]\n",
      "appointment_day    110527 non-null datetime64[ns, UTC]\n",
      "age                110527 non-null int64\n",
      "neighbourhood      110527 non-null object\n",
      "scholarship        110527 non-null bool\n",
      "hipertension       110527 non-null bool\n",
      "diabetes           110527 non-null bool\n",
      "alcoholism         110527 non-null bool\n",
      "handcap            110527 non-null int64\n",
      "sms_received       110527 non-null bool\n",
      "no_show            110527 non-null bool\n",
      "dtypes: bool(6), datetime64[ns, UTC](2), int64(4), object(2)\n",
      "memory usage: 7.4+ MB\n"
     ]
    }
   ],
   "source": [
    "#Change the type of 'patient_id' from float into integer.\n",
    "df['patient_id']=df['patient_id'].astype(np.int64)\n",
    "#Change the types of 'no_show','scholarship','hipertension','diabetes','alcoholism',and 'sms_received' into boolean.\n",
    "df['no_show'].replace(\"No\",False,inplace=True)\n",
    "df['no_show'].replace(\"Yes\",True,inplace=True)\n",
    "df['scholarship']=df['scholarship'].astype(bool)\n",
    "df['hipertension']=df['hipertension'].astype(bool)\n",
    "df['diabetes']=df['diabetes'].astype(bool)\n",
    "df['alcoholism']=df['alcoholism'].astype(bool)\n",
    "df['sms_received']=df['sms_received'].astype(bool)\n",
    "#Change the types of 'scheduled_day' and 'apoointment_day' into datetime.\n",
    "df['scheduled_day']=pd.to_datetime(df['scheduled_day'])\n",
    "df['appointment_day']=pd.to_datetime(df['appointment_day'])\n",
    "#Check\n",
    "df.info()"
   ]
  },
  {
   "cell_type": "markdown",
   "metadata": {},
   "source": [
    "3. I decided to change the negative ages into 0."
   ]
  },
  {
   "cell_type": "code",
   "execution_count": 13,
   "metadata": {},
   "outputs": [
    {
     "name": "stderr",
     "output_type": "stream",
     "text": [
      "C:\\Users\\wanghe\\Anaconda3\\lib\\site-packages\\ipykernel_launcher.py:3: SettingWithCopyWarning: \n",
      "A value is trying to be set on a copy of a slice from a DataFrame\n",
      "\n",
      "See the caveats in the documentation: http://pandas.pydata.org/pandas-docs/stable/user_guide/indexing.html#returning-a-view-versus-a-copy\n",
      "  This is separate from the ipykernel package so we can avoid doing imports until\n"
     ]
    }
   ],
   "source": [
    "#There's only one patient who has a negative age, its index is 99832.\n",
    "df.query('age<0')\n",
    "df['age'][99832]=0"
   ]
  },
  {
   "cell_type": "markdown",
   "metadata": {},
   "source": [
    "<a id='eda'></a>\n",
    "## Exploratory Data Analysis\n",
    "\n",
    "\n",
    "### Research Question 1:      Is the gap between scheduled date and appointment date one of the reasons that causes them missing the appointment?"
   ]
  },
  {
   "cell_type": "code",
   "execution_count": 14,
   "metadata": {},
   "outputs": [
    {
     "data": {
      "image/png": "[encoded data removed]",
      "text/plain": [
       "<Figure size 432x288 with 1 Axes>"
      ]
     },
     "metadata": {
      "needs_background": "light"
     },
     "output_type": "display_data"
    }
   ],
   "source": [
    "#Create new columns indicating the scheduled date and appointment date.\n",
    "df['scheduled_date']=df['scheduled_day'].dt.date\n",
    "df['appointment_date']=df['appointment_day'].dt.date\n",
    "#Create subsets and separate patients who didn't come and who did come.\n",
    "df_no=df.query('no_show==True')\n",
    "df_yes=df.query('no_show==False')\n",
    "#Calculate the gap between two dates.\n",
    "diff_daten=df_no['appointment_date']-df_no['scheduled_date']\n",
    "diff_datey=df_yes['appointment_date']-df_yes['scheduled_date']\n",
    "#Round the gap to the units of days, and get the average of gaps of both patients who didn't go and who did go.\n",
    "mean1=(diff_daten/np.timedelta64(1,'D')).mean()\n",
    "mean2=(diff_datey/np.timedelta64(1,'D')).mean()\n",
    "#Create a bar chart.\n",
    "ind1=np.arange(2)\n",
    "width1=0.7\n",
    "plt.bar(ind1,[mean1,mean2],width1,color='navy');\n",
    "plt.xticks(ind1,[\"Didn't Go\",\"Did Go\"]);\n",
    "plt.ylabel('days');\n",
    "plt.title('Average Days Between Scheduled Day And Appointment Day');"
   ]
  },
  {
   "cell_type": "markdown",
   "metadata": {},
   "source": [
    "Let's dig the dates deeper."
   ]
  },
  {
   "cell_type": "code",
   "execution_count": 15,
   "metadata": {},
   "outputs": [],
   "source": [
    "#Get the subsets of patients whose scheduled date is the same as appointment date, and those that are not the same.\n",
    "same_yes_day=df_yes.query('appointment_date == scheduled_date').shape[0]\n",
    "same_no_day=df_no.query('appointment_date == scheduled_date').shape[0]\n",
    "#Calculate the portion of patients who scheduled on the same date as appointment date of each subset.\n",
    "same_yes_day_prop=same_yes_day/df_yes.shape[0]\n",
    "same_no_day_prop=same_no_day/df_no.shape[0]\n",
    "diff_yes_day_prop=1-same_yes_day_prop\n",
    "diff_no_day_prop=1-same_no_day_prop"
   ]
  },
  {
   "cell_type": "code",
   "execution_count": 16,
   "metadata": {},
   "outputs": [
    {
     "data": {
      "image/png": "[encoded data removed]",
      "text/plain": [
       "<Figure size 432x216 with 1 Axes>"
      ]
     },
     "metadata": {},
     "output_type": "display_data"
    }
   ],
   "source": [
    "#Create pie charts to show the distribution of people who didn't show.\n",
    "fig, ax = plt.subplots(figsize=(6, 3), subplot_kw=dict(aspect=\"equal\"))\n",
    "data=[same_no_day_prop,diff_no_day_prop]\n",
    "labels=[\"Same Day\",\"Different Days\"]\n",
    "def func(pct, allvals):\n",
    "    absolute = int(pct/100.*np.sum(allvals))\n",
    "    return \"{:.1f}%\".format(pct, absolute)\n",
    "wedges, texts, autotexts = ax.pie(data, autopct=lambda pct: func(pct, data),\n",
    "                                  textprops=dict(color=\"w\"))\n",
    "ax.legend(wedges, labels,loc=\"center left\",bbox_to_anchor=(1, 0, 0.5, 1));\n",
    "plt.setp(autotexts, size=8, weight=\"bold\");\n",
    "ax.set_title(\"Dates distribution of people who miss the appointment\");"
   ]
  },
  {
   "cell_type": "code",
   "execution_count": 17,
   "metadata": {},
   "outputs": [
    {
     "data": {
      "image/png": "[encoded data removed]",
      "text/plain": [
       "<Figure size 432x216 with 1 Axes>"
      ]
     },
     "metadata": {},
     "output_type": "display_data"
    }
   ],
   "source": [
    "#Create a pie chart to show the distribution of people who did show.\n",
    "fig, ax = plt.subplots(figsize=(6, 3), subplot_kw=dict(aspect=\"equal\"))\n",
    "data=[same_yes_day_prop,diff_yes_day_prop]\n",
    "labels=[\"Same Day\",\"Different Days\"]\n",
    "def func(pct, allvals):\n",
    "    absolute = int(pct/100.*np.sum(allvals))\n",
    "    return \"{:.1f}%\".format(pct, absolute)\n",
    "wedges, texts, autotexts = ax.pie(data, autopct=lambda pct: func(pct, data),\n",
    "                                  textprops=dict(color=\"w\"))\n",
    "ax.legend(wedges, labels,loc=\"center left\",bbox_to_anchor=(1, 0, 0.5, 1));\n",
    "plt.setp(autotexts, size=8, weight=\"bold\");\n",
    "ax.set_title(\"Dates distribution of people who did show\");"
   ]
  },
  {
   "cell_type": "code",
   "execution_count": 18,
   "metadata": {},
   "outputs": [
    {
     "data": {
      "image/png": "[encoded data removed]",
      "text/plain": [
       "<Figure size 432x288 with 1 Axes>"
      ]
     },
     "metadata": {
      "needs_background": "light"
     },
     "output_type": "display_data"
    }
   ],
   "source": [
    "#Create a bar chart to show the distribution.\n",
    "ind=np.arange(2)\n",
    "width=0.35\n",
    "location=ind+width/2\n",
    "labels=[\"Didn't Go\",\"Did Go\"]\n",
    "barN=plt.bar(ind,[same_no_day_prop,same_yes_day_prop],width,label=\"Same Day\")\n",
    "barY=plt.bar(ind+width,[diff_yes_day_prop,diff_yes_day_prop],width,label=\"Different Day\")\n",
    "plt.title(\"Appointment Distribution\");\n",
    "plt.legend(loc=\"center left\",bbox_to_anchor=(1, 0, 0.5, 1));\n",
    "plt.xticks(location, labels);"
   ]
  },
  {
   "cell_type": "markdown",
   "metadata": {},
   "source": [
    "***Conclusion:*** Patients who missed the appointment on average had larger gap than those who didn't miss the appointment. Patients who scheduled appointment on the same date of the appointment date are less likely to miss the appointment."
   ]
  },
  {
   "cell_type": "markdown",
   "metadata": {},
   "source": [
    "### Research Question 2: Is the missing appointment related with the gender?"
   ]
  },
  {
   "cell_type": "code",
   "execution_count": 19,
   "metadata": {},
   "outputs": [],
   "source": [
    "#Calculate the portion of female and male patients who didn't go to the appointment.\n",
    "gender_no_counts=df_no['gender'].value_counts()\n",
    "female_no=gender_no_counts[0]\n",
    "gender_no_total=gender_no_counts.sum()\n",
    "female_no_prop=female_no/gender_no_total\n",
    "male_no_prop=1-female_no_prop\n",
    "#Calculate the portion of female and male patients who did go the appointment.\n",
    "gender_yes_counts=df_yes['gender'].value_counts()\n",
    "female_yes=gender_yes_counts[0]\n",
    "gender_yes_total=gender_yes_counts.sum()\n",
    "female_yes_prop=female_yes/gender_yes_total\n",
    "male_yes_prop=1-female_yes_prop"
   ]
  },
  {
   "cell_type": "code",
   "execution_count": 20,
   "metadata": {},
   "outputs": [
    {
     "data": {
      "image/png": "[encoded data removed]",
      "text/plain": [
       "<Figure size 432x288 with 1 Axes>"
      ]
     },
     "metadata": {
      "needs_background": "light"
     },
     "output_type": "display_data"
    }
   ],
   "source": [
    "#Create a bar chart to show the distribution of gender of patients who didn't go and did go to the appointment.\n",
    "ind2=np.arange(2)\n",
    "width2=0.35\n",
    "location2=ind2+width2/2\n",
    "labels2=['Female','Male']\n",
    "bar1_g=plt.bar(ind2,[female_no_prop,male_no_prop],width2,color=\"navy\",label=\"Didn't Go\")\n",
    "bar2_g=plt.bar(ind2+width2,[female_yes_prop,male_yes_prop],width2,color=\"orange\",label='Did Go')\n",
    "plt.xlabel('Gender');\n",
    "plt.ylabel('Percentage');\n",
    "plt.title('Gender Distribution')\n",
    "plt.xticks(location2,labels2);\n",
    "plt.legend();"
   ]
  },
  {
   "cell_type": "markdown",
   "metadata": {},
   "source": [
    "***Conclusion:*** There were more female patients than male patients. And it seems that there were only a slightly more female patients who didn't go to the appointment than those who did go. Since the difference is too small, I can say gender is not an important factor that causing missing appointments."
   ]
  },
  {
   "cell_type": "markdown",
   "metadata": {},
   "source": [
    "### Research Question 3: Is the missing appointment related with the age?"
   ]
  },
  {
   "cell_type": "code",
   "execution_count": 21,
   "metadata": {},
   "outputs": [
    {
     "data": {
      "text/plain": [
       "count    110527.000000\n",
       "mean         37.088883\n",
       "std          23.110190\n",
       "min           0.000000\n",
       "25%          18.000000\n",
       "50%          37.000000\n",
       "75%          55.000000\n",
       "max         115.000000\n",
       "Name: age, dtype: float64"
      ]
     },
     "execution_count": 21,
     "metadata": {},
     "output_type": "execute_result"
    }
   ],
   "source": [
    "df['age'].describe()"
   ]
  },
  {
   "cell_type": "code",
   "execution_count": 22,
   "metadata": {},
   "outputs": [],
   "source": [
    "#Create a new column indicating the categories of each range of age.\n",
    "df['age_range']=pd.cut(df['age'],[-1,18,37,55,115],labels=[\"0-18\",\"19-37\",\"38-55\",\"56-115\"])\n",
    "#Create new subsets.\n",
    "df_no=df.query('no_show==True')\n",
    "df_yes=df.query('no_show==False')"
   ]
  },
  {
   "cell_type": "code",
   "execution_count": 23,
   "metadata": {},
   "outputs": [],
   "source": [
    "#Calculate portion of each category of patients who didn't go to the appointment.\n",
    "age_no_count=df_no['age_range'].value_counts()\n",
    "age_no_total=age_no_count.sum()\n",
    "age0_no_prop=age_no_count[0]/age_no_total\n",
    "age1_no_prop=age_no_count[1]/age_no_total\n",
    "age2_no_prop=age_no_count[2]/age_no_total\n",
    "age3_no_prop=age_no_count[3]/age_no_total\n",
    "#Calculate portion of each category of patients who did go to the appointment.\n",
    "age_yes_count=df_yes['age_range'].value_counts()\n",
    "age_yes_total=age_yes_count.sum()\n",
    "age0_yes_prop=age_yes_count[0]/age_yes_total\n",
    "age1_yes_prop=age_yes_count[1]/age_yes_total\n",
    "age2_yes_prop=age_yes_count[2]/age_yes_total\n",
    "age3_yes_prop=age_yes_count[3]/age_yes_total"
   ]
  },
  {
   "cell_type": "code",
   "execution_count": 24,
   "metadata": {},
   "outputs": [
    {
     "data": {
      "image/png": "[encoded data removed]",
      "text/plain": [
       "<Figure size 720x360 with 1 Axes>"
      ]
     },
     "metadata": {
      "needs_background": "light"
     },
     "output_type": "display_data"
    }
   ],
   "source": [
    "#Create a bar chart to show the distribution.\n",
    "ind3=np.arange(4)\n",
    "width3=0.35\n",
    "location3=ind3+width3/2\n",
    "labels3=[\"0-18\",\"19-37\",\"38-55\",\"56-115\"]\n",
    "plt.subplots(figsize=(10,5));\n",
    "bar1_a=plt.bar(ind3,[age0_no_prop,age1_no_prop,age2_no_prop,age3_no_prop],width3,color=\"navy\", label=\"Didn't Show\")\n",
    "bar2_a=plt.bar(ind3+width3,[age0_yes_prop,age1_yes_prop,age2_yes_prop,age3_yes_prop],width3,color=\"orange\",label='Did Show')\n",
    "plt.ylabel('Number of Patients');\n",
    "plt.title('Number of Patients in Different Age Range');\n",
    "plt.xticks(location3,labels3);\n",
    "plt.legend();"
   ]
  },
  {
   "cell_type": "markdown",
   "metadata": {},
   "source": [
    "***Conclusion:*** Younger people who age between 0-18 and 19-37 are more likely to miss their appointments than those between age of 38-55 and 55-115."
   ]
  },
  {
   "cell_type": "markdown",
   "metadata": {},
   "source": [
    "### Research Question 4: Where are most patients who missed appointment from? Which neighbourhood?"
   ]
  },
  {
   "cell_type": "code",
   "execution_count": 25,
   "metadata": {},
   "outputs": [],
   "source": [
    "#Calculate the portion of missing appointment in each neighbourhood.\n",
    "df_no_neigh_count=df_no['neighbourhood'].value_counts()\n",
    "df_neigh_total=df['neighbourhood'].value_counts()\n",
    "df_neigh_prop=df_no_neigh_count/df_neigh_total"
   ]
  },
  {
   "cell_type": "code",
   "execution_count": 26,
   "metadata": {},
   "outputs": [
    {
     "data": {
      "text/plain": [
       "ILHAS OCEÂNICAS DE TRINDADE    1.000000\n",
       "SANTOS DUMONT                  0.289185\n",
       "SANTA CECÍLIA                  0.274554\n",
       "SANTA CLARA                    0.264822\n",
       "ITARARÉ                        0.262664\n",
       "JESUS DE NAZARETH              0.243954\n",
       "HORTO                          0.240000\n",
       "ILHA DO PRÍNCIPE               0.234775\n",
       "CARATOÍRA                      0.230409\n",
       "ANDORINHAS                     0.230327\n",
       "PRAIA DO SUÁ                   0.228261\n",
       "GURIGICA                       0.225966\n",
       "BENTO FERREIRA                 0.224942\n",
       "PARQUE MOSCOSO                 0.223192\n",
       "MARUÍPE                        0.222923\n",
       "DO MOSCOSO                     0.222760\n",
       "ENSEADA DO SUÁ                 0.221277\n",
       "ARIOVALDO FAVALESSA            0.219858\n",
       "ILHA DAS CAIEIRAS              0.219421\n",
       "FONTE GRANDE                   0.218475\n",
       "Name: neighbourhood, dtype: float64"
      ]
     },
     "execution_count": 26,
     "metadata": {},
     "output_type": "execute_result"
    }
   ],
   "source": [
    "third_quant=df_neigh_prop.quantile(0.75)\n",
    "most_miss=df_neigh_prop[df_neigh_prop>third_quant]\n",
    "most_miss.sort_values(ascending=False)"
   ]
  },
  {
   "cell_type": "markdown",
   "metadata": {},
   "source": [
    "***Conclusion:*** Patients from these neighbourhood are more likely to miss appointments."
   ]
  },
  {
   "cell_type": "markdown",
   "metadata": {},
   "source": [
    "### Research Question 5: Are scholarship, hipertension,diabetes,alcoholism, and receiving sms related with missing appointment?"
   ]
  },
  {
   "cell_type": "code",
   "execution_count": 27,
   "metadata": {},
   "outputs": [],
   "source": [
    "#Create a function to calculate the portion of each characters for patients who didn't go and did go to the appointment.\n",
    "total_no_count=df_no.shape[0]\n",
    "total_yes_count=df_yes.shape[0]\n",
    "def get_prop(df,column,total_count):\n",
    "    count=df_no[column].sum()\n",
    "    return count/total_count\n",
    "column=['scholarship','hipertension','diabetes','alcoholism','sms_received']\n",
    "no_prop=get_prop(df_no,column,total_no_count)\n",
    "yes_prop=get_prop(df_yes,column,total_yes_count)\n",
    "#Combine the two series together.\n",
    "prop=pd.concat([no_prop,yes_prop],axis=1,names=[\"Didn't go\",\"Did go\"])"
   ]
  },
  {
   "cell_type": "code",
   "execution_count": 28,
   "metadata": {},
   "outputs": [
    {
     "data": {
      "image/png": "[encoded data removed]",
      "text/plain": [
       "<Figure size 576x360 with 1 Axes>"
      ]
     },
     "metadata": {
      "needs_background": "light"
     },
     "output_type": "display_data"
    }
   ],
   "source": [
    "#Create a bar chart to show the distribution of each character.\n",
    "data1=prop[0]\n",
    "data2=prop[1]\n",
    "ind5=np.arange(len(data1))\n",
    "width5=0.3\n",
    "location5=ind5+width5/2\n",
    "labels5=[\"Scholarship\",\"Hipertension\",\"Diabetes\",\"Alcoholism\",\"Receive Messages\"]\n",
    "plt.subplots(figsize=(8,5))\n",
    "bar1=plt.bar(ind5,prop[0],width5,label=\"Didn't Go\")\n",
    "bar2=plt.bar(ind5+width5,prop[1],width5,label=\"Did Go\")\n",
    "plt.ylabel('Percentage');\n",
    "plt.title(\"Portion of each character of patients\");\n",
    "plt.legend();\n",
    "plt.xticks(location5,labels5);"
   ]
  },
  {
   "cell_type": "markdown",
   "metadata": {},
   "source": [
    "***Conclusion:*** Patients who have scholarship, those who have problems like hipertension, diabetes and alcoholism, and those who received messages from the hospital seem more likely to miss their appointment.<br> What the sms_received data shows seemed contractict with common sense."
   ]
  },
  {
   "cell_type": "markdown",
   "metadata": {},
   "source": [
    "### Research Question 6: Is handicapped level related with missing appointment?"
   ]
  },
  {
   "cell_type": "code",
   "execution_count": 29,
   "metadata": {},
   "outputs": [],
   "source": [
    "#Calculate the portion of each handicapped level.\n",
    "hand_yes_data=df.groupby('handcap')['no_show'].value_counts()[:,0]/total_yes_count\n",
    "hand_no_data=df.groupby('handcap')['no_show'].value_counts()[:,1]/total_no_count"
   ]
  },
  {
   "cell_type": "code",
   "execution_count": 30,
   "metadata": {
    "scrolled": true
   },
   "outputs": [
    {
     "data": {
      "image/png": "[encoded data removed]",
      "text/plain": [
       "<Figure size 432x288 with 1 Axes>"
      ]
     },
     "metadata": {
      "needs_background": "light"
     },
     "output_type": "display_data"
    }
   ],
   "source": [
    "#Create a bar chart to show the distribution of handicapped levels\n",
    "ind6=np.arange(5)\n",
    "width6=0.3\n",
    "location6=ind6+width6/2\n",
    "labels6=[0,1,2,3,4]\n",
    "bar1_h=plt.bar(ind6,hand_no_data,width6,label=\"Didn't go\")\n",
    "bar2_h=plt.bar(ind6+width6,hand_yes_data,width6,label=\"Did go\")\n",
    "plt.xlabel(\"Handicapped level\");\n",
    "plt.ylabel(\"Percentage\");\n",
    "plt.title('Distribution of handicapped levels');\n",
    "plt.legend();"
   ]
  },
  {
   "cell_type": "markdown",
   "metadata": {},
   "source": [
    "The bar chart above is a bit hard to observe. So, I calculated the difference between patients who didn't go and go of each level."
   ]
  },
  {
   "cell_type": "code",
   "execution_count": 33,
   "metadata": {},
   "outputs": [
    {
     "data": {
      "image/png": "[encoded data removed]",
      "text/plain": [
       "<Figure size 432x288 with 1 Axes>"
      ]
     },
     "metadata": {
      "needs_background": "light"
     },
     "output_type": "display_data"
    }
   ],
   "source": [
    "diff=hand_yes_data-hand_no_data\n",
    "diff.plot(kind='bar');\n",
    "plt.title('Difference in each handicapped level');\n",
    "plt.xlabel('Handicapped level');\n",
    "plt.ylabel('Percentage');"
   ]
  },
  {
   "cell_type": "markdown",
   "metadata": {},
   "source": [
    "***Conclusion:*** The differences are very small, can be ignored. The handicapped level is not an important factor to consider."
   ]
  },
  {
   "cell_type": "markdown",
   "metadata": {},
   "source": [
    "<a id='conclusions'></a>\n",
    "## Conclusions\n",
    ">***Results:*** We can predict whether a patient will miss the appointment by:\n",
    "<br>\n",
    "<br>1. The gap of the scheduled date and appointment date, the larger the gap is, the more likely a patient will miss the appointment. Patients whose appointment day and scheduled day are the same have less possibility to miss the appointment.\n",
    "<br>\n",
    "<br>2. Patients under age of 37 are more likely to miss appointments.\n",
    "<br>\n",
    "<br>3. Patients from these neighbourhood are more likely to miss appointments: ILHAS OCEÂNICAS DE, TRINDADE, SANTOS DUMONT, SANTA CECÍLIA, SANTA CLARA, ITARARÉ, JESUS DE NAZARETH, HORTO, ILHA DO PRÍNCIPE, CARATOÍRA, ANDORINHAS,PRAIA DO SUÁ, GURIGICA, BENTO FERREIRA, PARQUE MOSCOSO,MARUÍPE,DO MOSCOSO,ENSEADA DO SUÁ,ARIOVALDO FAVALESSA,ILHA DAS CAIEIRAS,FONTE GRANDE.\n",
    "<br>\n",
    "<br>4.Patients who have scholarship, who have problems like hipertension, diabetes and alcoholism, and who have received 1+ messages from the hospital seem more likely to miss their appointment.\n",
    "<br>\n",
    "\n",
    "><br>***Limitations:*** There are a couple of limitations with our data:\n",
    "<br>\n",
    "<br> 1. Most of the variables are boolean, string,datetime and categorical that can't allow for a high level of statistical method that can be used to provide correlations etc.\n",
    "<br>\n",
    "<br> 2. The statistics used here are descriptive statistics,not inferential, meaning that we did not create any hypotheses or controlled experiments or inference with our data.\n",
    "<br>\n",
    "<br> 3. The negative age value could be a wrong type in. I corrected the value with 0, which is kind of subjective. This might make the result inaccurate.\n",
    "<br>\n",
    "<br> 4. The probabilities of missing appointment of patients coming from different neighbourhood I calculated were based on different sample size, making the result hard to compare with each other.\n",
    "<br>\n",
    "<br> 5. I made the age into categories,making the result less accurate."
   ]
  }
 ],
 "metadata": {
  "kernelspec": {
   "display_name": "Python 3",
   "language": "python",
   "name": "python3"
  },
  "language_info": {
   "codemirror_mode": {
    "name": "ipython",
    "version": 3
   },
   "file_extension": ".py",
   "mimetype": "text/x-python",
   "name": "python",
   "nbconvert_exporter": "python",
   "pygments_lexer": "ipython3",
   "version": "3.7.4"
  }
 },
 "nbformat": 4,
 "nbformat_minor": 2
}
